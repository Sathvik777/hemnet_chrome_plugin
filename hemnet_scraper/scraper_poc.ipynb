{
 "cells": [
  {
   "cell_type": "code",
   "execution_count": 1,
   "metadata": {},
   "outputs": [],
   "source": [
    "from bs4 import BeautifulSoup"
   ]
  },
  {
   "cell_type": "code",
   "execution_count": 68,
   "metadata": {},
   "outputs": [],
   "source": [
    "final_price_url = \"https://www.hemnet.se/salda/bostader?housing_form_groups=apartments&location_ids=18027&page=2\""
   ]
  },
  {
   "cell_type": "code",
   "execution_count": 69,
   "metadata": {},
   "outputs": [],
   "source": [
    "import requests\n",
    "r  = requests.get(final_price_url)\n",
    "data = r.content"
   ]
  },
  {
   "cell_type": "code",
   "execution_count": 70,
   "metadata": {},
   "outputs": [],
   "source": [
    "soup = BeautifulSoup(data, features=\"html.parser\")"
   ]
  },
  {
   "cell_type": "code",
   "execution_count": 71,
   "metadata": {},
   "outputs": [],
   "source": [
    "simlified_hits = soup.findAll(\"div\", {\"class\": \"sold-property-listing__location\"})"
   ]
  },
  {
   "cell_type": "code",
   "execution_count": 72,
   "metadata": {},
   "outputs": [
    {
     "data": {
      "text/plain": [
       "<div class=\"sold-property-listing__location\">\n",
       "<h2 class=\"sold-property-listing__heading\">\n",
       "<span class=\"property-icon property-icon--result\"><svg height=\"16\" viewbox=\"0 0 13 16\" width=\"13\" xmlns=\"http://www.w3.org/2000/svg\"><title>Villa</title><desc><span class=\"svg-icon__fallback-text\">Villa</span></desc><path class=\"svg-icon__shape\" d=\"M0 6.667v8C0 15.403.582 16 1.3 16h3.9v-5.333h2.6V16h3.9c.718 0 1.3-.597 1.3-1.333v-8L6.5 0 0 6.667z\" fill=\"#008D35\" fill-rule=\"evenodd\"></path></svg>\n",
       "</span>\n",
       "<span class=\"item-result-meta-attribute-is-bold item-link\">Skältorpsvägen 14B</span>\n",
       "</h2>\n",
       "<div>\n",
       "<span class=\"hide-element\">\n",
       "        Villa\n",
       "      </span>\n",
       "<span class=\"item-link\">\n",
       "          Vaxmora,\n",
       "</span>      Sollentuna\n",
       "    </div>\n",
       "</div>"
      ]
     },
     "execution_count": 72,
     "metadata": {},
     "output_type": "execute_result"
    }
   ],
   "source": [
    "simlified_hits[0]"
   ]
  },
  {
   "cell_type": "code",
   "execution_count": 73,
   "metadata": {},
   "outputs": [
    {
     "data": {
      "text/plain": [
       "'\\n          Vaxmora,\\n'"
      ]
     },
     "execution_count": 73,
     "metadata": {},
     "output_type": "execute_result"
    }
   ],
   "source": [
    "simlified_hits[0].findAll(\"span\", {\"class\": \"item-link\"})[1].getText()"
   ]
  },
  {
   "cell_type": "code",
   "execution_count": 74,
   "metadata": {},
   "outputs": [],
   "source": [
    "expand_hits = soup.findAll(\"div\", {\"class\": \"sold-property-listing\"})"
   ]
  },
  {
   "cell_type": "code",
   "execution_count": 60,
   "metadata": {},
   "outputs": [
    {
     "data": {
      "text/plain": [
       "'\\n          Silverdal,\\n'"
      ]
     },
     "execution_count": 60,
     "metadata": {},
     "output_type": "execute_result"
    }
   ],
   "source": [
    "expand_hits[0].find(\"div\", {\"class\": \"sold-property-listing__location\"}).findAll(\"span\", {\"class\": \"item-link\"})[1].getText()"
   ]
  },
  {
   "cell_type": "code",
   "execution_count": 76,
   "metadata": {},
   "outputs": [
    {
     "data": {
      "text/plain": [
       "['',\n",
       " '',\n",
       " '',\n",
       " '            164\\xa0m²',\n",
       " '          \\xa0',\n",
       " '            5\\xa0rum',\n",
       " '        ',\n",
       " '',\n",
       " '',\n",
       " '          850\\xa0m² tomt',\n",
       " '        ',\n",
       " '',\n",
       " '          120\\xa0m² biarea',\n",
       " '        ']"
      ]
     },
     "execution_count": 76,
     "metadata": {},
     "output_type": "execute_result"
    }
   ],
   "source": [
    "expand_hits[0].find('div', class_='sold-property-listing__size').getText().splitlines()"
   ]
  },
  {
   "cell_type": "code",
   "execution_count": 75,
   "metadata": {},
   "outputs": [
    {
     "ename": "IndexError",
     "evalue": "list index out of range",
     "output_type": "error",
     "traceback": [
      "\u001b[0;31m---------------------------------------------------------------------------\u001b[0m",
      "\u001b[0;31mIndexError\u001b[0m                                Traceback (most recent call last)",
      "\u001b[0;32m<ipython-input-75-dff45f51c86d>\u001b[0m in \u001b[0;36m<module>\u001b[0;34m\u001b[0m\n\u001b[1;32m      2\u001b[0m \u001b[0;34m\u001b[0m\u001b[0m\n\u001b[1;32m      3\u001b[0m \u001b[0;32mfor\u001b[0m \u001b[0mhit_property\u001b[0m \u001b[0;32min\u001b[0m \u001b[0mexpand_hits\u001b[0m\u001b[0;34m:\u001b[0m\u001b[0;34m\u001b[0m\u001b[0;34m\u001b[0m\u001b[0m\n\u001b[0;32m----> 4\u001b[0;31m     \u001b[0mplace_name\u001b[0m \u001b[0;34m=\u001b[0m \u001b[0mhit_property\u001b[0m\u001b[0;34m.\u001b[0m\u001b[0mfind\u001b[0m\u001b[0;34m(\u001b[0m\u001b[0;34m\"div\"\u001b[0m\u001b[0;34m,\u001b[0m \u001b[0;34m{\u001b[0m\u001b[0;34m\"class\"\u001b[0m\u001b[0;34m:\u001b[0m \u001b[0;34m\"sold-property-listing__location\"\u001b[0m\u001b[0;34m}\u001b[0m\u001b[0;34m)\u001b[0m\u001b[0;34m.\u001b[0m\u001b[0mfindAll\u001b[0m\u001b[0;34m(\u001b[0m\u001b[0;34m\"span\"\u001b[0m\u001b[0;34m,\u001b[0m \u001b[0;34m{\u001b[0m\u001b[0;34m\"class\"\u001b[0m\u001b[0;34m:\u001b[0m \u001b[0;34m\"item-link\"\u001b[0m\u001b[0;34m}\u001b[0m\u001b[0;34m)\u001b[0m\u001b[0;34m[\u001b[0m\u001b[0;36m1\u001b[0m\u001b[0;34m]\u001b[0m\u001b[0;34m\u001b[0m\u001b[0;34m\u001b[0m\u001b[0m\n\u001b[0m\u001b[1;32m      5\u001b[0m     \u001b[0msize\u001b[0m \u001b[0;34m=\u001b[0m \u001b[0mhit_property\u001b[0m\u001b[0;34m.\u001b[0m\u001b[0mfind\u001b[0m\u001b[0;34m(\u001b[0m\u001b[0;34m'div'\u001b[0m\u001b[0;34m,\u001b[0m \u001b[0mclass_\u001b[0m\u001b[0;34m=\u001b[0m\u001b[0;34m'sold-property-listing__size'\u001b[0m\u001b[0;34m)\u001b[0m\u001b[0;34m\u001b[0m\u001b[0;34m\u001b[0m\u001b[0m\n\u001b[1;32m      6\u001b[0m     \u001b[0mmontly\u001b[0m \u001b[0;34m=\u001b[0m \u001b[0mhit_property\u001b[0m\u001b[0;34m.\u001b[0m\u001b[0mfind\u001b[0m\u001b[0;34m(\u001b[0m\u001b[0;34m'div'\u001b[0m\u001b[0;34m,\u001b[0m \u001b[0mclass_\u001b[0m\u001b[0;34m=\u001b[0m\u001b[0;34m'sold-property-listing__price'\u001b[0m\u001b[0;34m)\u001b[0m\u001b[0;34m\u001b[0m\u001b[0;34m\u001b[0m\u001b[0m\n",
      "\u001b[0;31mIndexError\u001b[0m: list index out of range"
     ]
    }
   ],
   "source": [
    "appartments = []\n",
    "\n",
    "for hit_property in expand_hits:\n",
    "    place_name = hit_property.find(\"div\", {\"class\": \"sold-property-listing__location\"}).findAll(\"span\", {\"class\": \"item-link\"})[1]\n",
    "    size = hit_property.find('div', class_='sold-property-listing__size')    \n",
    "    montly = hit_property.find('div', class_='sold-property-listing__price')\n",
    "    final_str = place_name.getText()+\", \"+montly.getText()+\", \"+size.getText()\n",
    "    appartments.append(final_str)"
   ]
  },
  {
   "cell_type": "code",
   "execution_count": 10,
   "metadata": {},
   "outputs": [],
   "source": [
    "test_unclean = appartments[0].splitlines()"
   ]
  },
  {
   "cell_type": "code",
   "execution_count": 11,
   "metadata": {},
   "outputs": [],
   "source": [
    "test_unclean = [e.strip() for e in test_unclean]\n",
    "test_clean = [e for e in test_unclean if len(e) != 0]"
   ]
  },
  {
   "cell_type": "code",
   "execution_count": 12,
   "metadata": {},
   "outputs": [
    {
     "data": {
      "text/plain": [
       "['Silverdal,',\n",
       " ',',\n",
       " 'Slutpris 2\\xa0200\\xa0000 kr',\n",
       " 'Såld  7 augusti 2020',\n",
       " '48\\xa0889 kr/m²',\n",
       " ',',\n",
       " '45\\xa0m²',\n",
       " '2\\xa0rum',\n",
       " '3\\xa0023\\xa0kr/mån']"
      ]
     },
     "execution_count": 12,
     "metadata": {},
     "output_type": "execute_result"
    }
   ],
   "source": [
    "test_clean"
   ]
  },
  {
   "cell_type": "code",
   "execution_count": 13,
   "metadata": {},
   "outputs": [
    {
     "name": "stdout",
     "output_type": "stream",
     "text": [
      "Oops!  That was no valid number.  Try again...\n",
      "Oops!  That was no valid number.  Try again...\n",
      "Oops!  That was no valid number.  Try again...\n",
      "Oops!  That was no valid number.  Try again...\n",
      "Oops!  That was no valid number.  Try again...\n"
     ]
    }
   ],
   "source": [
    "import re\n",
    "clean_appartments = []\n",
    "missed_clean_up = []\n",
    "for aprt in appartments:\n",
    "    test_unclean = aprt.splitlines()\n",
    "    test_unclean = [e.strip() for e in test_unclean]\n",
    "    test_clean = [e for e in test_unclean if len(e) != 0]\n",
    "    if len(test_clean) == 9 :\n",
    "        try:\n",
    "            clean_appartments.append(\n",
    "                {'region':test_clean[0].replace(\",\", \"\"),\n",
    "                 'price': int(re.sub('[^0-9]','', test_clean[2])),\n",
    "                 'price_per_size': int(re.sub('[^0-9]','', test_clean[4])),\n",
    "                 'size':float(test_clean[6].replace(u'\\xa0', ' ').replace(\" m²\",\"\").replace(\",\",\".\")),\n",
    "                 'rooms':float(test_clean[7].replace(u'\\xa0', ' ').replace(\" rum\",\"\").replace(\",\",\".\")),\n",
    "                 'rent': int(re.sub('[^0-9]','', test_clean[8]))\n",
    "                })\n",
    "        except ValueError:\n",
    "            print(\"Oops!  That was no valid number.  Try again...\")\n",
    "            missed_clean_up.append(test_clean)\n",
    "    else :\n",
    "        missed_clean_up.append(test_clean)"
   ]
  },
  {
   "cell_type": "code",
   "execution_count": 14,
   "metadata": {},
   "outputs": [
    {
     "data": {
      "text/plain": [
       "[{'region': 'Silverdal',\n",
       "  'price': 2200000,\n",
       "  'price_per_size': 48889,\n",
       "  'size': 45.0,\n",
       "  'rooms': 2.0,\n",
       "  'rent': 3023},\n",
       " {'region': 'Häggvik',\n",
       "  'price': 2175000,\n",
       "  'price_per_size': 38701,\n",
       "  'size': 56.2,\n",
       "  'rooms': 2.0,\n",
       "  'rent': 3261},\n",
       " {'region': 'Häggvik',\n",
       "  'price': 1800000,\n",
       "  'price_per_size': 51576,\n",
       "  'size': 34.9,\n",
       "  'rooms': 1.0,\n",
       "  'rent': 2194},\n",
       " {'region': 'Edsängen',\n",
       "  'price': 2210000,\n",
       "  'price_per_size': 49111,\n",
       "  'size': 45.0,\n",
       "  'rooms': 2.0,\n",
       "  'rent': 2625},\n",
       " {'region': 'Edsberg',\n",
       "  'price': 1900000,\n",
       "  'price_per_size': 30645,\n",
       "  'size': 62.0,\n",
       "  'rooms': 2.0,\n",
       "  'rent': 3446},\n",
       " {'region': 'Kvarnskogen',\n",
       "  'price': 2730000,\n",
       "  'price_per_size': 47895,\n",
       "  'size': 57.0,\n",
       "  'rooms': 2.0,\n",
       "  'rent': 3180},\n",
       " {'region': 'Helenelund',\n",
       "  'price': 2800000,\n",
       "  'price_per_size': 35897,\n",
       "  'size': 78.0,\n",
       "  'rooms': 3.0,\n",
       "  'rent': 4323},\n",
       " {'region': 'Sollentuna Kvarnskogen',\n",
       "  'price': 1765000,\n",
       "  'price_per_size': 36771,\n",
       "  'size': 48.0,\n",
       "  'rooms': 1.5,\n",
       "  'rent': 2678},\n",
       " {'region': 'Rotsunda',\n",
       "  'price': 2115000,\n",
       "  'price_per_size': 32290,\n",
       "  'size': 65.5,\n",
       "  'rooms': 3.0,\n",
       "  'rent': 3888},\n",
       " {'region': 'Sollentuna Rotebro',\n",
       "  'price': 2100000,\n",
       "  'price_per_size': 27632,\n",
       "  'size': 76.0,\n",
       "  'rooms': 3.0,\n",
       "  'rent': 4000},\n",
       " {'region': 'Tureberg Sollentuna',\n",
       "  'price': 2195000,\n",
       "  'price_per_size': 49886,\n",
       "  'size': 44.0,\n",
       "  'rooms': 2.0,\n",
       "  'rent': 2301},\n",
       " {'region': 'Edsängen/Edsberg',\n",
       "  'price': 3650000,\n",
       "  'price_per_size': 37245,\n",
       "  'size': 98.0,\n",
       "  'rooms': 4.0,\n",
       "  'rent': 4956},\n",
       " {'region': 'Sollentuna',\n",
       "  'price': 3050000,\n",
       "  'price_per_size': 57547,\n",
       "  'size': 53.0,\n",
       "  'rooms': 2.0,\n",
       "  'rent': 2578},\n",
       " {'region': 'Sjöberg',\n",
       "  'price': 1500000,\n",
       "  'price_per_size': 42857,\n",
       "  'size': 35.0,\n",
       "  'rooms': 1.0,\n",
       "  'rent': 2191},\n",
       " {'region': 'Sollentuna Centrum',\n",
       "  'price': 2740000,\n",
       "  'price_per_size': 68500,\n",
       "  'size': 40.0,\n",
       "  'rooms': 2.0,\n",
       "  'rent': 2858},\n",
       " {'region': 'Edsviken',\n",
       "  'price': 1850000,\n",
       "  'price_per_size': 56061,\n",
       "  'size': 33.0,\n",
       "  'rooms': 1.0,\n",
       "  'rent': 1489},\n",
       " {'region': 'Rotebro',\n",
       "  'price': 1540000,\n",
       "  'price_per_size': 22985,\n",
       "  'size': 67.0,\n",
       "  'rooms': 2.0,\n",
       "  'rent': 4151},\n",
       " {'region': 'Helenelund',\n",
       "  'price': 2800000,\n",
       "  'price_per_size': 35897,\n",
       "  'size': 78.0,\n",
       "  'rooms': 3.0,\n",
       "  'rent': 4817},\n",
       " {'region': 'Centrala Sollentuna',\n",
       "  'price': 2300000,\n",
       "  'price_per_size': 37277,\n",
       "  'size': 61.7,\n",
       "  'rooms': 2.0,\n",
       "  'rent': 3328},\n",
       " {'region': 'Norrviken',\n",
       "  'price': 2450000,\n",
       "  'price_per_size': 43750,\n",
       "  'size': 56.0,\n",
       "  'rooms': 3.5,\n",
       "  'rent': 2772},\n",
       " {'region': 'Edsberg',\n",
       "  'price': 2195000,\n",
       "  'price_per_size': 37845,\n",
       "  'size': 58.0,\n",
       "  'rooms': 2.0,\n",
       "  'rent': 3777},\n",
       " {'region': 'Sjöberg',\n",
       "  'price': 2075000,\n",
       "  'price_per_size': 30072,\n",
       "  'size': 69.0,\n",
       "  'rooms': 2.0,\n",
       "  'rent': 3591},\n",
       " {'region': 'Häggvik',\n",
       "  'price': 4300000,\n",
       "  'price_per_size': 58108,\n",
       "  'size': 74.0,\n",
       "  'rooms': 3.0,\n",
       "  'rent': 4175},\n",
       " {'region': 'Edsberg',\n",
       "  'price': 2000000,\n",
       "  'price_per_size': 28571,\n",
       "  'size': 70.0,\n",
       "  'rooms': 3.0,\n",
       "  'rent': 3731},\n",
       " {'region': 'Kärrdal',\n",
       "  'price': 2000000,\n",
       "  'price_per_size': 28986,\n",
       "  'size': 69.0,\n",
       "  'rooms': 2.0,\n",
       "  'rent': 4358},\n",
       " {'region': 'Edsberg',\n",
       "  'price': 1950000,\n",
       "  'price_per_size': 34211,\n",
       "  'size': 57.0,\n",
       "  'rooms': 2.0,\n",
       "  'rent': 3132},\n",
       " {'region': 'Sollentuna Centrum',\n",
       "  'price': 3000000,\n",
       "  'price_per_size': 65217,\n",
       "  'size': 46.0,\n",
       "  'rooms': 2.0,\n",
       "  'rent': 2211},\n",
       " {'region': 'Rotsunda',\n",
       "  'price': 1895000,\n",
       "  'price_per_size': 22970,\n",
       "  'size': 82.5,\n",
       "  'rooms': 3.5,\n",
       "  'rent': 6352},\n",
       " {'region': 'Häggvik',\n",
       "  'price': 2100000,\n",
       "  'price_per_size': 28767,\n",
       "  'size': 73.0,\n",
       "  'rooms': 3.0,\n",
       "  'rent': 5824},\n",
       " {'region': 'Edsängen/Edsberg',\n",
       "  'price': 2650000,\n",
       "  'price_per_size': 38406,\n",
       "  'size': 69.0,\n",
       "  'rooms': 2.5,\n",
       "  'rent': 3995},\n",
       " {'region': 'Häggvik strand',\n",
       "  'price': 4175000,\n",
       "  'price_per_size': 47989,\n",
       "  'size': 87.0,\n",
       "  'rooms': 4.0,\n",
       "  'rent': 4850},\n",
       " {'region': 'Edsberg',\n",
       "  'price': 1865000,\n",
       "  'price_per_size': 28258,\n",
       "  'size': 66.0,\n",
       "  'rooms': 3.0,\n",
       "  'rent': 3688},\n",
       " {'region': 'Centrala Sollentuna',\n",
       "  'price': 2400000,\n",
       "  'price_per_size': 46602,\n",
       "  'size': 51.5,\n",
       "  'rooms': 2.0,\n",
       "  'rent': 3134},\n",
       " {'region': 'Edsberg',\n",
       "  'price': 2140000,\n",
       "  'price_per_size': 27974,\n",
       "  'size': 76.5,\n",
       "  'rooms': 3.0,\n",
       "  'rent': 3998},\n",
       " {'region': 'Rotsunda',\n",
       "  'price': 2100000,\n",
       "  'price_per_size': 22581,\n",
       "  'size': 93.0,\n",
       "  'rooms': 4.0,\n",
       "  'rent': 7088},\n",
       " {'region': 'Häggvik',\n",
       "  'price': 2015000,\n",
       "  'price_per_size': 33583,\n",
       "  'size': 60.0,\n",
       "  'rooms': 2.0,\n",
       "  'rent': 3413},\n",
       " {'region': 'Rotsunda',\n",
       "  'price': 2395000,\n",
       "  'price_per_size': 38320,\n",
       "  'size': 62.5,\n",
       "  'rooms': 2.0,\n",
       "  'rent': 4118},\n",
       " {'region': 'Edsängen/Edsberg',\n",
       "  'price': 3695000,\n",
       "  'price_per_size': 36584,\n",
       "  'size': 101.0,\n",
       "  'rooms': 4.0,\n",
       "  'rent': 5800},\n",
       " {'region': 'Kärrdal',\n",
       "  'price': 2500000,\n",
       "  'price_per_size': 30120,\n",
       "  'size': 83.0,\n",
       "  'rooms': 4.5,\n",
       "  'rent': 4401}]"
      ]
     },
     "execution_count": 14,
     "metadata": {},
     "output_type": "execute_result"
    }
   ],
   "source": [
    "clean_appartments"
   ]
  },
  {
   "cell_type": "code",
   "execution_count": 15,
   "metadata": {},
   "outputs": [
    {
     "data": {
      "text/plain": [
       "[['Kärrdal,',\n",
       "  ',',\n",
       "  'Slutpris 5\\xa0010\\xa0000 kr',\n",
       "  'Såld  6 augusti 2020',\n",
       "  ',',\n",
       "  '126\\xa0m²',\n",
       "  '6\\xa0rum',\n",
       "  '232\\xa0m² tomt'],\n",
       " ['Helenelund,',\n",
       "  ',',\n",
       "  'Slutpris 5\\xa0700\\xa0000 kr',\n",
       "  'Såld  6 augusti 2020',\n",
       "  ',',\n",
       "  '108\\xa0m²',\n",
       "  '5\\xa0rum',\n",
       "  '4\\xa0656\\xa0kr/mån'],\n",
       " ['Rotebro,',\n",
       "  ',',\n",
       "  'Slutpris 5\\xa0950\\xa0000 kr',\n",
       "  'Såld  5 augusti 2020',\n",
       "  ',',\n",
       "  '130\\xa0m²',\n",
       "  '6\\xa0rum',\n",
       "  '1\\xa0092\\xa0m² tomt',\n",
       "  '58\\xa0m² biarea'],\n",
       " ['Edsängen,',\n",
       "  ',',\n",
       "  'Slutpris 3\\xa0895\\xa0000 kr',\n",
       "  'Såld  4 augusti 2020',\n",
       "  ',',\n",
       "  '92,7\\xa0m²',\n",
       "  '4\\xa0rum',\n",
       "  '126\\xa0m² tomt',\n",
       "  '12,4\\xa0m² biarea'],\n",
       " ['Norrviken,',\n",
       "  ',',\n",
       "  'Slutpris 1\\xa0775\\xa0000 kr',\n",
       "  'Såld  3 augusti 2020',\n",
       "  ',',\n",
       "  '44,5\\xa0m²',\n",
       "  '1\\xa0rum',\n",
       "  '2\\xa0095\\xa0kr/mån'],\n",
       " ['Sollentuna Rotebro,',\n",
       "  ',',\n",
       "  'Slutpris 5\\xa0500\\xa0000 kr',\n",
       "  'Såld 31 juli 2020',\n",
       "  ',',\n",
       "  '169\\xa0m²',\n",
       "  '7\\xa0rum',\n",
       "  '5\\xa0235\\xa0kr/mån',\n",
       "  '5\\xa0m² biarea'],\n",
       " ['Silverdal,',\n",
       "  ',',\n",
       "  'Slutpris 7\\xa0400\\xa0000 kr',\n",
       "  'Såld 31 juli 2020',\n",
       "  ',',\n",
       "  '115\\xa0m²',\n",
       "  '4\\xa0rum',\n",
       "  '256\\xa0m² tomt',\n",
       "  '9\\xa0m² biarea'],\n",
       " ['Sjöberg,',\n",
       "  ',',\n",
       "  'Slutpris 9\\xa0730\\xa0000 kr',\n",
       "  'Såld 30 juli 2020',\n",
       "  ',',\n",
       "  '190\\xa0m²',\n",
       "  '7\\xa0rum',\n",
       "  '1\\xa0374\\xa0m² tomt',\n",
       "  '40\\xa0m² biarea'],\n",
       " ['Edsbacka,',\n",
       "  ',',\n",
       "  'Slutpris 8\\xa0610\\xa0000 kr',\n",
       "  'Såld 17 juli 2020',\n",
       "  ',',\n",
       "  '179\\xa0m²',\n",
       "  '6\\xa0rum',\n",
       "  '870\\xa0m² tomt'],\n",
       " ['Gillbo,',\n",
       "  ',',\n",
       "  'Slutpris 6\\xa0850\\xa0000 kr',\n",
       "  'Såld 12 juli 2020',\n",
       "  ',',\n",
       "  '165\\xa0m²',\n",
       "  '6\\xa0rum',\n",
       "  '840\\xa0m² tomt'],\n",
       " ['Vaxmora,',\n",
       "  ',',\n",
       "  'Slutpris 3\\xa0750\\xa0000 kr',\n",
       "  'Såld  9 juli 2020',\n",
       "  ',',\n",
       "  '127\\xa0m²',\n",
       "  '4\\xa0rum',\n",
       "  '164\\xa0m² tomt']]"
      ]
     },
     "execution_count": 15,
     "metadata": {},
     "output_type": "execute_result"
    }
   ],
   "source": [
    "missed_clean_up"
   ]
  },
  {
   "cell_type": "code",
   "execution_count": 20,
   "metadata": {},
   "outputs": [],
   "source": [
    "import pandas as pd\n",
    "df = pd.DataFrame(data=clean_appartments)"
   ]
  },
  {
   "cell_type": "code",
   "execution_count": 58,
   "metadata": {},
   "outputs": [
    {
     "data": {
      "text/plain": [
       "234"
      ]
     },
     "execution_count": 58,
     "metadata": {},
     "output_type": "execute_result"
    }
   ],
   "source": [
    "df.size"
   ]
  },
  {
   "cell_type": "code",
   "execution_count": 29,
   "metadata": {},
   "outputs": [
    {
     "name": "stdout",
     "output_type": "stream",
     "text": [
      "Requirement already satisfied: nltk in ./venv/lib/python3.7/site-packages (3.5)\r\n",
      "Requirement already satisfied: click in ./venv/lib/python3.7/site-packages (from nltk) (7.1.2)\r\n",
      "Requirement already satisfied: joblib in ./venv/lib/python3.7/site-packages (from nltk) (0.16.0)\r\n",
      "Requirement already satisfied: regex in ./venv/lib/python3.7/site-packages (from nltk) (2020.7.14)\r\n",
      "Requirement already satisfied: tqdm in ./venv/lib/python3.7/site-packages (from nltk) (4.48.2)\r\n"
     ]
    }
   ],
   "source": [
    "! pip install nltk"
   ]
  },
  {
   "cell_type": "code",
   "execution_count": 32,
   "metadata": {},
   "outputs": [],
   "source": [
    "## TODO: Do one hot encoding "
   ]
  },
  {
   "cell_type": "code",
   "execution_count": 33,
   "metadata": {},
   "outputs": [
    {
     "data": {
      "text/html": [
       "<div>\n",
       "<style scoped>\n",
       "    .dataframe tbody tr th:only-of-type {\n",
       "        vertical-align: middle;\n",
       "    }\n",
       "\n",
       "    .dataframe tbody tr th {\n",
       "        vertical-align: top;\n",
       "    }\n",
       "\n",
       "    .dataframe thead th {\n",
       "        text-align: right;\n",
       "    }\n",
       "</style>\n",
       "<table border=\"1\" class=\"dataframe\">\n",
       "  <thead>\n",
       "    <tr style=\"text-align: right;\">\n",
       "      <th></th>\n",
       "      <th>region</th>\n",
       "      <th>price</th>\n",
       "      <th>price_per_size</th>\n",
       "      <th>size</th>\n",
       "      <th>rooms</th>\n",
       "      <th>rent</th>\n",
       "    </tr>\n",
       "  </thead>\n",
       "  <tbody>\n",
       "    <tr>\n",
       "      <th>22</th>\n",
       "      <td>Häggvik</td>\n",
       "      <td>4300000</td>\n",
       "      <td>58108</td>\n",
       "      <td>74.0</td>\n",
       "      <td>3.0</td>\n",
       "      <td>4175</td>\n",
       "    </tr>\n",
       "    <tr>\n",
       "      <th>30</th>\n",
       "      <td>Häggvik strand</td>\n",
       "      <td>4175000</td>\n",
       "      <td>47989</td>\n",
       "      <td>87.0</td>\n",
       "      <td>4.0</td>\n",
       "      <td>4850</td>\n",
       "    </tr>\n",
       "    <tr>\n",
       "      <th>37</th>\n",
       "      <td>Edsängen/Edsberg</td>\n",
       "      <td>3695000</td>\n",
       "      <td>36584</td>\n",
       "      <td>101.0</td>\n",
       "      <td>4.0</td>\n",
       "      <td>5800</td>\n",
       "    </tr>\n",
       "    <tr>\n",
       "      <th>11</th>\n",
       "      <td>Edsängen/Edsberg</td>\n",
       "      <td>3650000</td>\n",
       "      <td>37245</td>\n",
       "      <td>98.0</td>\n",
       "      <td>4.0</td>\n",
       "      <td>4956</td>\n",
       "    </tr>\n",
       "    <tr>\n",
       "      <th>12</th>\n",
       "      <td>Sollentuna</td>\n",
       "      <td>3050000</td>\n",
       "      <td>57547</td>\n",
       "      <td>53.0</td>\n",
       "      <td>2.0</td>\n",
       "      <td>2578</td>\n",
       "    </tr>\n",
       "    <tr>\n",
       "      <th>26</th>\n",
       "      <td>Sollentuna Centrum</td>\n",
       "      <td>3000000</td>\n",
       "      <td>65217</td>\n",
       "      <td>46.0</td>\n",
       "      <td>2.0</td>\n",
       "      <td>2211</td>\n",
       "    </tr>\n",
       "    <tr>\n",
       "      <th>6</th>\n",
       "      <td>Helenelund</td>\n",
       "      <td>2800000</td>\n",
       "      <td>35897</td>\n",
       "      <td>78.0</td>\n",
       "      <td>3.0</td>\n",
       "      <td>4323</td>\n",
       "    </tr>\n",
       "    <tr>\n",
       "      <th>17</th>\n",
       "      <td>Helenelund</td>\n",
       "      <td>2800000</td>\n",
       "      <td>35897</td>\n",
       "      <td>78.0</td>\n",
       "      <td>3.0</td>\n",
       "      <td>4817</td>\n",
       "    </tr>\n",
       "    <tr>\n",
       "      <th>14</th>\n",
       "      <td>Sollentuna Centrum</td>\n",
       "      <td>2740000</td>\n",
       "      <td>68500</td>\n",
       "      <td>40.0</td>\n",
       "      <td>2.0</td>\n",
       "      <td>2858</td>\n",
       "    </tr>\n",
       "    <tr>\n",
       "      <th>5</th>\n",
       "      <td>Kvarnskogen</td>\n",
       "      <td>2730000</td>\n",
       "      <td>47895</td>\n",
       "      <td>57.0</td>\n",
       "      <td>2.0</td>\n",
       "      <td>3180</td>\n",
       "    </tr>\n",
       "    <tr>\n",
       "      <th>29</th>\n",
       "      <td>Edsängen/Edsberg</td>\n",
       "      <td>2650000</td>\n",
       "      <td>38406</td>\n",
       "      <td>69.0</td>\n",
       "      <td>2.5</td>\n",
       "      <td>3995</td>\n",
       "    </tr>\n",
       "    <tr>\n",
       "      <th>38</th>\n",
       "      <td>Kärrdal</td>\n",
       "      <td>2500000</td>\n",
       "      <td>30120</td>\n",
       "      <td>83.0</td>\n",
       "      <td>4.5</td>\n",
       "      <td>4401</td>\n",
       "    </tr>\n",
       "    <tr>\n",
       "      <th>19</th>\n",
       "      <td>Norrviken</td>\n",
       "      <td>2450000</td>\n",
       "      <td>43750</td>\n",
       "      <td>56.0</td>\n",
       "      <td>3.5</td>\n",
       "      <td>2772</td>\n",
       "    </tr>\n",
       "    <tr>\n",
       "      <th>32</th>\n",
       "      <td>Centrala Sollentuna</td>\n",
       "      <td>2400000</td>\n",
       "      <td>46602</td>\n",
       "      <td>51.5</td>\n",
       "      <td>2.0</td>\n",
       "      <td>3134</td>\n",
       "    </tr>\n",
       "    <tr>\n",
       "      <th>36</th>\n",
       "      <td>Rotsunda</td>\n",
       "      <td>2395000</td>\n",
       "      <td>38320</td>\n",
       "      <td>62.5</td>\n",
       "      <td>2.0</td>\n",
       "      <td>4118</td>\n",
       "    </tr>\n",
       "    <tr>\n",
       "      <th>18</th>\n",
       "      <td>Centrala Sollentuna</td>\n",
       "      <td>2300000</td>\n",
       "      <td>37277</td>\n",
       "      <td>61.7</td>\n",
       "      <td>2.0</td>\n",
       "      <td>3328</td>\n",
       "    </tr>\n",
       "    <tr>\n",
       "      <th>3</th>\n",
       "      <td>Edsängen</td>\n",
       "      <td>2210000</td>\n",
       "      <td>49111</td>\n",
       "      <td>45.0</td>\n",
       "      <td>2.0</td>\n",
       "      <td>2625</td>\n",
       "    </tr>\n",
       "    <tr>\n",
       "      <th>0</th>\n",
       "      <td>Silverdal</td>\n",
       "      <td>2200000</td>\n",
       "      <td>48889</td>\n",
       "      <td>45.0</td>\n",
       "      <td>2.0</td>\n",
       "      <td>3023</td>\n",
       "    </tr>\n",
       "    <tr>\n",
       "      <th>20</th>\n",
       "      <td>Edsberg</td>\n",
       "      <td>2195000</td>\n",
       "      <td>37845</td>\n",
       "      <td>58.0</td>\n",
       "      <td>2.0</td>\n",
       "      <td>3777</td>\n",
       "    </tr>\n",
       "    <tr>\n",
       "      <th>10</th>\n",
       "      <td>Tureberg Sollentuna</td>\n",
       "      <td>2195000</td>\n",
       "      <td>49886</td>\n",
       "      <td>44.0</td>\n",
       "      <td>2.0</td>\n",
       "      <td>2301</td>\n",
       "    </tr>\n",
       "    <tr>\n",
       "      <th>1</th>\n",
       "      <td>Häggvik</td>\n",
       "      <td>2175000</td>\n",
       "      <td>38701</td>\n",
       "      <td>56.2</td>\n",
       "      <td>2.0</td>\n",
       "      <td>3261</td>\n",
       "    </tr>\n",
       "    <tr>\n",
       "      <th>33</th>\n",
       "      <td>Edsberg</td>\n",
       "      <td>2140000</td>\n",
       "      <td>27974</td>\n",
       "      <td>76.5</td>\n",
       "      <td>3.0</td>\n",
       "      <td>3998</td>\n",
       "    </tr>\n",
       "    <tr>\n",
       "      <th>8</th>\n",
       "      <td>Rotsunda</td>\n",
       "      <td>2115000</td>\n",
       "      <td>32290</td>\n",
       "      <td>65.5</td>\n",
       "      <td>3.0</td>\n",
       "      <td>3888</td>\n",
       "    </tr>\n",
       "    <tr>\n",
       "      <th>28</th>\n",
       "      <td>Häggvik</td>\n",
       "      <td>2100000</td>\n",
       "      <td>28767</td>\n",
       "      <td>73.0</td>\n",
       "      <td>3.0</td>\n",
       "      <td>5824</td>\n",
       "    </tr>\n",
       "    <tr>\n",
       "      <th>34</th>\n",
       "      <td>Rotsunda</td>\n",
       "      <td>2100000</td>\n",
       "      <td>22581</td>\n",
       "      <td>93.0</td>\n",
       "      <td>4.0</td>\n",
       "      <td>7088</td>\n",
       "    </tr>\n",
       "    <tr>\n",
       "      <th>9</th>\n",
       "      <td>Sollentuna Rotebro</td>\n",
       "      <td>2100000</td>\n",
       "      <td>27632</td>\n",
       "      <td>76.0</td>\n",
       "      <td>3.0</td>\n",
       "      <td>4000</td>\n",
       "    </tr>\n",
       "    <tr>\n",
       "      <th>21</th>\n",
       "      <td>Sjöberg</td>\n",
       "      <td>2075000</td>\n",
       "      <td>30072</td>\n",
       "      <td>69.0</td>\n",
       "      <td>2.0</td>\n",
       "      <td>3591</td>\n",
       "    </tr>\n",
       "    <tr>\n",
       "      <th>35</th>\n",
       "      <td>Häggvik</td>\n",
       "      <td>2015000</td>\n",
       "      <td>33583</td>\n",
       "      <td>60.0</td>\n",
       "      <td>2.0</td>\n",
       "      <td>3413</td>\n",
       "    </tr>\n",
       "    <tr>\n",
       "      <th>23</th>\n",
       "      <td>Edsberg</td>\n",
       "      <td>2000000</td>\n",
       "      <td>28571</td>\n",
       "      <td>70.0</td>\n",
       "      <td>3.0</td>\n",
       "      <td>3731</td>\n",
       "    </tr>\n",
       "    <tr>\n",
       "      <th>24</th>\n",
       "      <td>Kärrdal</td>\n",
       "      <td>2000000</td>\n",
       "      <td>28986</td>\n",
       "      <td>69.0</td>\n",
       "      <td>2.0</td>\n",
       "      <td>4358</td>\n",
       "    </tr>\n",
       "    <tr>\n",
       "      <th>25</th>\n",
       "      <td>Edsberg</td>\n",
       "      <td>1950000</td>\n",
       "      <td>34211</td>\n",
       "      <td>57.0</td>\n",
       "      <td>2.0</td>\n",
       "      <td>3132</td>\n",
       "    </tr>\n",
       "    <tr>\n",
       "      <th>4</th>\n",
       "      <td>Edsberg</td>\n",
       "      <td>1900000</td>\n",
       "      <td>30645</td>\n",
       "      <td>62.0</td>\n",
       "      <td>2.0</td>\n",
       "      <td>3446</td>\n",
       "    </tr>\n",
       "    <tr>\n",
       "      <th>27</th>\n",
       "      <td>Rotsunda</td>\n",
       "      <td>1895000</td>\n",
       "      <td>22970</td>\n",
       "      <td>82.5</td>\n",
       "      <td>3.5</td>\n",
       "      <td>6352</td>\n",
       "    </tr>\n",
       "    <tr>\n",
       "      <th>31</th>\n",
       "      <td>Edsberg</td>\n",
       "      <td>1865000</td>\n",
       "      <td>28258</td>\n",
       "      <td>66.0</td>\n",
       "      <td>3.0</td>\n",
       "      <td>3688</td>\n",
       "    </tr>\n",
       "    <tr>\n",
       "      <th>15</th>\n",
       "      <td>Edsviken</td>\n",
       "      <td>1850000</td>\n",
       "      <td>56061</td>\n",
       "      <td>33.0</td>\n",
       "      <td>1.0</td>\n",
       "      <td>1489</td>\n",
       "    </tr>\n",
       "    <tr>\n",
       "      <th>2</th>\n",
       "      <td>Häggvik</td>\n",
       "      <td>1800000</td>\n",
       "      <td>51576</td>\n",
       "      <td>34.9</td>\n",
       "      <td>1.0</td>\n",
       "      <td>2194</td>\n",
       "    </tr>\n",
       "    <tr>\n",
       "      <th>7</th>\n",
       "      <td>Sollentuna Kvarnskogen</td>\n",
       "      <td>1765000</td>\n",
       "      <td>36771</td>\n",
       "      <td>48.0</td>\n",
       "      <td>1.5</td>\n",
       "      <td>2678</td>\n",
       "    </tr>\n",
       "    <tr>\n",
       "      <th>16</th>\n",
       "      <td>Rotebro</td>\n",
       "      <td>1540000</td>\n",
       "      <td>22985</td>\n",
       "      <td>67.0</td>\n",
       "      <td>2.0</td>\n",
       "      <td>4151</td>\n",
       "    </tr>\n",
       "    <tr>\n",
       "      <th>13</th>\n",
       "      <td>Sjöberg</td>\n",
       "      <td>1500000</td>\n",
       "      <td>42857</td>\n",
       "      <td>35.0</td>\n",
       "      <td>1.0</td>\n",
       "      <td>2191</td>\n",
       "    </tr>\n",
       "  </tbody>\n",
       "</table>\n",
       "</div>"
      ],
      "text/plain": [
       "                    region    price  price_per_size   size  rooms  rent\n",
       "22                 Häggvik  4300000           58108   74.0    3.0  4175\n",
       "30          Häggvik strand  4175000           47989   87.0    4.0  4850\n",
       "37        Edsängen/Edsberg  3695000           36584  101.0    4.0  5800\n",
       "11        Edsängen/Edsberg  3650000           37245   98.0    4.0  4956\n",
       "12              Sollentuna  3050000           57547   53.0    2.0  2578\n",
       "26      Sollentuna Centrum  3000000           65217   46.0    2.0  2211\n",
       "6               Helenelund  2800000           35897   78.0    3.0  4323\n",
       "17              Helenelund  2800000           35897   78.0    3.0  4817\n",
       "14      Sollentuna Centrum  2740000           68500   40.0    2.0  2858\n",
       "5              Kvarnskogen  2730000           47895   57.0    2.0  3180\n",
       "29        Edsängen/Edsberg  2650000           38406   69.0    2.5  3995\n",
       "38                 Kärrdal  2500000           30120   83.0    4.5  4401\n",
       "19               Norrviken  2450000           43750   56.0    3.5  2772\n",
       "32     Centrala Sollentuna  2400000           46602   51.5    2.0  3134\n",
       "36                Rotsunda  2395000           38320   62.5    2.0  4118\n",
       "18     Centrala Sollentuna  2300000           37277   61.7    2.0  3328\n",
       "3                 Edsängen  2210000           49111   45.0    2.0  2625\n",
       "0                Silverdal  2200000           48889   45.0    2.0  3023\n",
       "20                 Edsberg  2195000           37845   58.0    2.0  3777\n",
       "10     Tureberg Sollentuna  2195000           49886   44.0    2.0  2301\n",
       "1                  Häggvik  2175000           38701   56.2    2.0  3261\n",
       "33                 Edsberg  2140000           27974   76.5    3.0  3998\n",
       "8                 Rotsunda  2115000           32290   65.5    3.0  3888\n",
       "28                 Häggvik  2100000           28767   73.0    3.0  5824\n",
       "34                Rotsunda  2100000           22581   93.0    4.0  7088\n",
       "9       Sollentuna Rotebro  2100000           27632   76.0    3.0  4000\n",
       "21                 Sjöberg  2075000           30072   69.0    2.0  3591\n",
       "35                 Häggvik  2015000           33583   60.0    2.0  3413\n",
       "23                 Edsberg  2000000           28571   70.0    3.0  3731\n",
       "24                 Kärrdal  2000000           28986   69.0    2.0  4358\n",
       "25                 Edsberg  1950000           34211   57.0    2.0  3132\n",
       "4                  Edsberg  1900000           30645   62.0    2.0  3446\n",
       "27                Rotsunda  1895000           22970   82.5    3.5  6352\n",
       "31                 Edsberg  1865000           28258   66.0    3.0  3688\n",
       "15                Edsviken  1850000           56061   33.0    1.0  1489\n",
       "2                  Häggvik  1800000           51576   34.9    1.0  2194\n",
       "7   Sollentuna Kvarnskogen  1765000           36771   48.0    1.5  2678\n",
       "16                 Rotebro  1540000           22985   67.0    2.0  4151\n",
       "13                 Sjöberg  1500000           42857   35.0    1.0  2191"
      ]
     },
     "execution_count": 33,
     "metadata": {},
     "output_type": "execute_result"
    }
   ],
   "source": [
    "df.sort_values(by='price', ascending=False)"
   ]
  },
  {
   "cell_type": "code",
   "execution_count": 37,
   "metadata": {},
   "outputs": [],
   "source": [
    "import numpy as np\n",
    "import tensorflow as tf\n",
    "from tensorflow import keras"
   ]
  },
  {
   "cell_type": "code",
   "execution_count": 26,
   "metadata": {},
   "outputs": [
    {
     "data": {
      "text/plain": [
       "<matplotlib.axes._subplots.AxesSubplot at 0x131fd7dd0>"
      ]
     },
     "execution_count": 26,
     "metadata": {},
     "output_type": "execute_result"
    },
    {
     "data": {
      "image/png": "[encoded data removed]",
      "text/plain": [
       "<Figure size 432x288 with 2 Axes>"
      ]
     },
     "metadata": {
      "needs_background": "light"
     },
     "output_type": "display_data"
    }
   ],
   "source": [
    "df.plot.scatter(x='size',y='price',c='price_per_size', colormap='viridis')"
   ]
  },
  {
   "cell_type": "code",
   "execution_count": 27,
   "metadata": {},
   "outputs": [
    {
     "data": {
      "text/plain": [
       "<matplotlib.axes._subplots.AxesSubplot at 0x131fe3dd0>"
      ]
     },
     "execution_count": 27,
     "metadata": {},
     "output_type": "execute_result"
    },
    {
     "data": {
      "image/png": "[encoded data removed]",
      "text/plain": [
       "<Figure size 432x288 with 1 Axes>"
      ]
     },
     "metadata": {
      "needs_background": "light"
     },
     "output_type": "display_data"
    }
   ],
   "source": [
    "df.plot.scatter(x='size',y='price')"
   ]
  },
  {
   "cell_type": "code",
   "execution_count": 67,
   "metadata": {},
   "outputs": [],
   "source": [
    "df.to_csv('test_data.csv',encoding='utf-8',index=False)"
   ]
  },
  {
   "cell_type": "code",
   "execution_count": 41,
   "metadata": {},
   "outputs": [
    {
     "ename": "SyntaxError",
     "evalue": "invalid syntax (<ipython-input-41-642092bcf0c0>, line 1)",
     "output_type": "error",
     "traceback": [
      "\u001b[0;36m  File \u001b[0;32m\"<ipython-input-41-642092bcf0c0>\"\u001b[0;36m, line \u001b[0;32m1\u001b[0m\n\u001b[0;31m    df.plot.<TAB>\u001b[0m\n\u001b[0m            ^\u001b[0m\n\u001b[0;31mSyntaxError\u001b[0m\u001b[0;31m:\u001b[0m invalid syntax\n"
     ]
    }
   ],
   "source": [
    "df.plot.density"
   ]
  },
  {
   "cell_type": "code",
   "execution_count": 43,
   "metadata": {},
   "outputs": [],
   "source": [
    "from sklearn.preprocessing import OneHotEncoder"
   ]
  },
  {
   "cell_type": "code",
   "execution_count": 48,
   "metadata": {},
   "outputs": [
    {
     "data": {
      "text/plain": [
       "OneHotEncoder(categories='auto', drop=None, dtype=<class 'numpy.float64'>,\n",
       "              handle_unknown='ignore', sparse=True)"
      ]
     },
     "execution_count": 48,
     "metadata": {},
     "output_type": "execute_result"
    }
   ],
   "source": [
    "enc = OneHotEncoder(handle_unknown='ignore')\n",
    "enc.fit(df)"
   ]
  },
  {
   "cell_type": "code",
   "execution_count": 45,
   "metadata": {},
   "outputs": [
    {
     "data": {
      "text/plain": [
       "[array(['Centrala Sollentuna', 'Edsberg', 'Edsviken', 'Edsängen',\n",
       "        'Edsängen/Edsberg', 'Helenelund', 'Häggvik', 'Häggvik strand',\n",
       "        'Kvarnskogen', 'Kärrdal', 'Norrviken', 'Rotebro', 'Rotsunda',\n",
       "        'Silverdal', 'Sjöberg', 'Sollentuna', 'Sollentuna Centrum',\n",
       "        'Sollentuna Kvarnskogen', 'Sollentuna Rotebro',\n",
       "        'Tureberg Sollentuna'], dtype=object),\n",
       " array([1500000, 1540000, 1765000, 1800000, 1850000, 1865000, 1895000,\n",
       "        1900000, 1950000, 2000000, 2015000, 2075000, 2100000, 2115000,\n",
       "        2140000, 2175000, 2195000, 2200000, 2210000, 2300000, 2395000,\n",
       "        2400000, 2450000, 2500000, 2650000, 2730000, 2740000, 2800000,\n",
       "        3000000, 3050000, 3650000, 3695000, 4175000, 4300000]),\n",
       " array([22581, 22970, 22985, 27632, 27974, 28258, 28571, 28767, 28986,\n",
       "        30072, 30120, 30645, 32290, 33583, 34211, 35897, 36584, 36771,\n",
       "        37245, 37277, 37845, 38320, 38406, 38701, 42857, 43750, 46602,\n",
       "        47895, 47989, 48889, 49111, 49886, 51576, 56061, 57547, 58108,\n",
       "        65217, 68500]),\n",
       " array([ 33. ,  34.9,  35. ,  40. ,  44. ,  45. ,  46. ,  48. ,  51.5,\n",
       "         53. ,  56. ,  56.2,  57. ,  58. ,  60. ,  61.7,  62. ,  62.5,\n",
       "         65.5,  66. ,  67. ,  69. ,  70. ,  73. ,  74. ,  76. ,  76.5,\n",
       "         78. ,  82.5,  83. ,  87. ,  93. ,  98. , 101. ]),\n",
       " array([1. , 1.5, 2. , 2.5, 3. , 3.5, 4. , 4.5]),\n",
       " array([1489, 2191, 2194, 2211, 2301, 2578, 2625, 2678, 2772, 2858, 3023,\n",
       "        3132, 3134, 3180, 3261, 3328, 3413, 3446, 3591, 3688, 3731, 3777,\n",
       "        3888, 3995, 3998, 4000, 4118, 4151, 4175, 4323, 4358, 4401, 4817,\n",
       "        4850, 4956, 5800, 5824, 6352, 7088])]"
      ]
     },
     "execution_count": 45,
     "metadata": {},
     "output_type": "execute_result"
    }
   ],
   "source": [
    "enc.categories_"
   ]
  },
  {
   "cell_type": "code",
   "execution_count": 54,
   "metadata": {},
   "outputs": [],
   "source": [
    "edsviken_df = df[(df['region'] == \"Häggvik\")]"
   ]
  },
  {
   "cell_type": "code",
   "execution_count": 55,
   "metadata": {},
   "outputs": [
    {
     "data": {
      "text/html": [
       "<div>\n",
       "<style scoped>\n",
       "    .dataframe tbody tr th:only-of-type {\n",
       "        vertical-align: middle;\n",
       "    }\n",
       "\n",
       "    .dataframe tbody tr th {\n",
       "        vertical-align: top;\n",
       "    }\n",
       "\n",
       "    .dataframe thead th {\n",
       "        text-align: right;\n",
       "    }\n",
       "</style>\n",
       "<table border=\"1\" class=\"dataframe\">\n",
       "  <thead>\n",
       "    <tr style=\"text-align: right;\">\n",
       "      <th></th>\n",
       "      <th>region</th>\n",
       "      <th>price</th>\n",
       "      <th>price_per_size</th>\n",
       "      <th>size</th>\n",
       "      <th>rooms</th>\n",
       "      <th>rent</th>\n",
       "    </tr>\n",
       "  </thead>\n",
       "  <tbody>\n",
       "    <tr>\n",
       "      <th>1</th>\n",
       "      <td>Häggvik</td>\n",
       "      <td>2175000</td>\n",
       "      <td>38701</td>\n",
       "      <td>56.2</td>\n",
       "      <td>2.0</td>\n",
       "      <td>3261</td>\n",
       "    </tr>\n",
       "    <tr>\n",
       "      <th>2</th>\n",
       "      <td>Häggvik</td>\n",
       "      <td>1800000</td>\n",
       "      <td>51576</td>\n",
       "      <td>34.9</td>\n",
       "      <td>1.0</td>\n",
       "      <td>2194</td>\n",
       "    </tr>\n",
       "    <tr>\n",
       "      <th>22</th>\n",
       "      <td>Häggvik</td>\n",
       "      <td>4300000</td>\n",
       "      <td>58108</td>\n",
       "      <td>74.0</td>\n",
       "      <td>3.0</td>\n",
       "      <td>4175</td>\n",
       "    </tr>\n",
       "    <tr>\n",
       "      <th>28</th>\n",
       "      <td>Häggvik</td>\n",
       "      <td>2100000</td>\n",
       "      <td>28767</td>\n",
       "      <td>73.0</td>\n",
       "      <td>3.0</td>\n",
       "      <td>5824</td>\n",
       "    </tr>\n",
       "    <tr>\n",
       "      <th>35</th>\n",
       "      <td>Häggvik</td>\n",
       "      <td>2015000</td>\n",
       "      <td>33583</td>\n",
       "      <td>60.0</td>\n",
       "      <td>2.0</td>\n",
       "      <td>3413</td>\n",
       "    </tr>\n",
       "  </tbody>\n",
       "</table>\n",
       "</div>"
      ],
      "text/plain": [
       "     region    price  price_per_size  size  rooms  rent\n",
       "1   Häggvik  2175000           38701  56.2    2.0  3261\n",
       "2   Häggvik  1800000           51576  34.9    1.0  2194\n",
       "22  Häggvik  4300000           58108  74.0    3.0  4175\n",
       "28  Häggvik  2100000           28767  73.0    3.0  5824\n",
       "35  Häggvik  2015000           33583  60.0    2.0  3413"
      ]
     },
     "execution_count": 55,
     "metadata": {},
     "output_type": "execute_result"
    }
   ],
   "source": [
    "edsviken_df.head()"
   ]
  },
  {
   "cell_type": "code",
   "execution_count": 57,
   "metadata": {},
   "outputs": [
    {
     "data": {
      "text/plain": [
       "<matplotlib.axes._subplots.AxesSubplot at 0x14c32c690>"
      ]
     },
     "execution_count": 57,
     "metadata": {},
     "output_type": "execute_result"
    },
    {
     "data": {
      "image/png": "[encoded data removed]",
      "text/plain": [
       "<Figure size 432x288 with 1 Axes>"
      ]
     },
     "metadata": {
      "needs_background": "light"
     },
     "output_type": "display_data"
    }
   ],
   "source": [
    "edsviken_df.plot.scatter(x='size',y='price')"
   ]
  },
  {
   "cell_type": "code",
   "execution_count": 94,
   "metadata": {},
   "outputs": [],
   "source": [
    "data = pd.read_csv(\"test_data_full.csv\",header=0,index_col=False)"
   ]
  },
  {
   "cell_type": "code",
   "execution_count": 95,
   "metadata": {},
   "outputs": [
    {
     "data": {
      "text/html": [
       "<div>\n",
       "<style scoped>\n",
       "    .dataframe tbody tr th:only-of-type {\n",
       "        vertical-align: middle;\n",
       "    }\n",
       "\n",
       "    .dataframe tbody tr th {\n",
       "        vertical-align: top;\n",
       "    }\n",
       "\n",
       "    .dataframe thead th {\n",
       "        text-align: right;\n",
       "    }\n",
       "</style>\n",
       "<table border=\"1\" class=\"dataframe\">\n",
       "  <thead>\n",
       "    <tr style=\"text-align: right;\">\n",
       "      <th></th>\n",
       "      <th>region</th>\n",
       "      <th>price</th>\n",
       "      <th>price_per_size</th>\n",
       "      <th>size</th>\n",
       "      <th>rooms</th>\n",
       "      <th>rent</th>\n",
       "    </tr>\n",
       "  </thead>\n",
       "  <tbody>\n",
       "    <tr>\n",
       "      <th>0</th>\n",
       "      <td>Viggbyholm</td>\n",
       "      <td>1600000</td>\n",
       "      <td>59259</td>\n",
       "      <td>27.0</td>\n",
       "      <td>1.0</td>\n",
       "      <td>2171</td>\n",
       "    </tr>\n",
       "    <tr>\n",
       "      <th>1</th>\n",
       "      <td>Ektorp</td>\n",
       "      <td>1550000</td>\n",
       "      <td>77500</td>\n",
       "      <td>20.0</td>\n",
       "      <td>1.0</td>\n",
       "      <td>983</td>\n",
       "    </tr>\n",
       "    <tr>\n",
       "      <th>2</th>\n",
       "      <td>Årsta</td>\n",
       "      <td>2200000</td>\n",
       "      <td>73333</td>\n",
       "      <td>30.0</td>\n",
       "      <td>1.0</td>\n",
       "      <td>2455</td>\n",
       "    </tr>\n",
       "    <tr>\n",
       "      <th>3</th>\n",
       "      <td>Midsommarkransen/Telefonplan</td>\n",
       "      <td>2480000</td>\n",
       "      <td>88571</td>\n",
       "      <td>28.0</td>\n",
       "      <td>1.0</td>\n",
       "      <td>1552</td>\n",
       "    </tr>\n",
       "    <tr>\n",
       "      <th>4</th>\n",
       "      <td>Bromma / Mariehäll</td>\n",
       "      <td>2150000</td>\n",
       "      <td>71667</td>\n",
       "      <td>30.0</td>\n",
       "      <td>1.0</td>\n",
       "      <td>1945</td>\n",
       "    </tr>\n",
       "  </tbody>\n",
       "</table>\n",
       "</div>"
      ],
      "text/plain": [
       "                         region    price  price_per_size  size  rooms  rent\n",
       "0                    Viggbyholm  1600000           59259  27.0    1.0  2171\n",
       "1                        Ektorp  1550000           77500  20.0    1.0   983\n",
       "2                         Årsta  2200000           73333  30.0    1.0  2455\n",
       "3  Midsommarkransen/Telefonplan  2480000           88571  28.0    1.0  1552\n",
       "4            Bromma / Mariehäll  2150000           71667  30.0    1.0  1945"
      ]
     },
     "execution_count": 95,
     "metadata": {},
     "output_type": "execute_result"
    }
   ],
   "source": [
    "data.head()"
   ]
  },
  {
   "cell_type": "code",
   "execution_count": 96,
   "metadata": {},
   "outputs": [
    {
     "data": {
      "text/html": [
       "<div>\n",
       "<style scoped>\n",
       "    .dataframe tbody tr th:only-of-type {\n",
       "        vertical-align: middle;\n",
       "    }\n",
       "\n",
       "    .dataframe tbody tr th {\n",
       "        vertical-align: top;\n",
       "    }\n",
       "\n",
       "    .dataframe thead th {\n",
       "        text-align: right;\n",
       "    }\n",
       "</style>\n",
       "<table border=\"1\" class=\"dataframe\">\n",
       "  <thead>\n",
       "    <tr style=\"text-align: right;\">\n",
       "      <th></th>\n",
       "      <th>region</th>\n",
       "      <th>price</th>\n",
       "      <th>price_per_size</th>\n",
       "      <th>size</th>\n",
       "      <th>rooms</th>\n",
       "      <th>rent</th>\n",
       "    </tr>\n",
       "  </thead>\n",
       "  <tbody>\n",
       "    <tr>\n",
       "      <th>0</th>\n",
       "      <td>Viggbyholm</td>\n",
       "      <td>1600000</td>\n",
       "      <td>59259</td>\n",
       "      <td>27.0</td>\n",
       "      <td>1.0</td>\n",
       "      <td>2171</td>\n",
       "    </tr>\n",
       "    <tr>\n",
       "      <th>1</th>\n",
       "      <td>Ektorp</td>\n",
       "      <td>1550000</td>\n",
       "      <td>77500</td>\n",
       "      <td>20.0</td>\n",
       "      <td>1.0</td>\n",
       "      <td>983</td>\n",
       "    </tr>\n",
       "    <tr>\n",
       "      <th>2</th>\n",
       "      <td>Årsta</td>\n",
       "      <td>2200000</td>\n",
       "      <td>73333</td>\n",
       "      <td>30.0</td>\n",
       "      <td>1.0</td>\n",
       "      <td>2455</td>\n",
       "    </tr>\n",
       "    <tr>\n",
       "      <th>3</th>\n",
       "      <td>Midsommarkransen/Telefonplan</td>\n",
       "      <td>2480000</td>\n",
       "      <td>88571</td>\n",
       "      <td>28.0</td>\n",
       "      <td>1.0</td>\n",
       "      <td>1552</td>\n",
       "    </tr>\n",
       "    <tr>\n",
       "      <th>4</th>\n",
       "      <td>Bromma / Mariehäll</td>\n",
       "      <td>2150000</td>\n",
       "      <td>71667</td>\n",
       "      <td>30.0</td>\n",
       "      <td>1.0</td>\n",
       "      <td>1945</td>\n",
       "    </tr>\n",
       "    <tr>\n",
       "      <th>...</th>\n",
       "      <td>...</td>\n",
       "      <td>...</td>\n",
       "      <td>...</td>\n",
       "      <td>...</td>\n",
       "      <td>...</td>\n",
       "      <td>...</td>\n",
       "    </tr>\n",
       "    <tr>\n",
       "      <th>19164</th>\n",
       "      <td>Vasastan</td>\n",
       "      <td>5600000</td>\n",
       "      <td>86154</td>\n",
       "      <td>65.0</td>\n",
       "      <td>2.0</td>\n",
       "      <td>2081</td>\n",
       "    </tr>\n",
       "    <tr>\n",
       "      <th>19165</th>\n",
       "      <td>Södermalm/Högalid</td>\n",
       "      <td>5925000</td>\n",
       "      <td>71386</td>\n",
       "      <td>83.0</td>\n",
       "      <td>3.0</td>\n",
       "      <td>3673</td>\n",
       "    </tr>\n",
       "    <tr>\n",
       "      <th>19166</th>\n",
       "      <td>Södermalm</td>\n",
       "      <td>6905000</td>\n",
       "      <td>94589</td>\n",
       "      <td>73.0</td>\n",
       "      <td>2.5</td>\n",
       "      <td>2953</td>\n",
       "    </tr>\n",
       "    <tr>\n",
       "      <th>19167</th>\n",
       "      <td>Östermalm</td>\n",
       "      <td>6150000</td>\n",
       "      <td>106034</td>\n",
       "      <td>58.0</td>\n",
       "      <td>2.0</td>\n",
       "      <td>2054</td>\n",
       "    </tr>\n",
       "    <tr>\n",
       "      <th>19168</th>\n",
       "      <td>Vasastan</td>\n",
       "      <td>6200000</td>\n",
       "      <td>93939</td>\n",
       "      <td>66.0</td>\n",
       "      <td>3.0</td>\n",
       "      <td>3256</td>\n",
       "    </tr>\n",
       "  </tbody>\n",
       "</table>\n",
       "<p>19169 rows × 6 columns</p>\n",
       "</div>"
      ],
      "text/plain": [
       "                             region    price  price_per_size  size  rooms  \\\n",
       "0                        Viggbyholm  1600000           59259  27.0    1.0   \n",
       "1                            Ektorp  1550000           77500  20.0    1.0   \n",
       "2                             Årsta  2200000           73333  30.0    1.0   \n",
       "3      Midsommarkransen/Telefonplan  2480000           88571  28.0    1.0   \n",
       "4                Bromma / Mariehäll  2150000           71667  30.0    1.0   \n",
       "...                             ...      ...             ...   ...    ...   \n",
       "19164                      Vasastan  5600000           86154  65.0    2.0   \n",
       "19165             Södermalm/Högalid  5925000           71386  83.0    3.0   \n",
       "19166                     Södermalm  6905000           94589  73.0    2.5   \n",
       "19167                     Östermalm  6150000          106034  58.0    2.0   \n",
       "19168                      Vasastan  6200000           93939  66.0    3.0   \n",
       "\n",
       "       rent  \n",
       "0      2171  \n",
       "1       983  \n",
       "2      2455  \n",
       "3      1552  \n",
       "4      1945  \n",
       "...     ...  \n",
       "19164  2081  \n",
       "19165  3673  \n",
       "19166  2953  \n",
       "19167  2054  \n",
       "19168  3256  \n",
       "\n",
       "[19169 rows x 6 columns]"
      ]
     },
     "execution_count": 96,
     "metadata": {},
     "output_type": "execute_result"
    }
   ],
   "source": [
    "data"
   ]
  },
  {
   "cell_type": "code",
   "execution_count": 97,
   "metadata": {},
   "outputs": [],
   "source": [
    "edsviken_df = data[(data['region'] == \"Häggvik\")]"
   ]
  },
  {
   "cell_type": "code",
   "execution_count": 98,
   "metadata": {},
   "outputs": [
    {
     "data": {
      "text/plain": [
       "['region', 'price', 'price_per_size', 'size', 'rooms', 'rent']"
      ]
     },
     "execution_count": 98,
     "metadata": {},
     "output_type": "execute_result"
    }
   ],
   "source": [
    "data.columns.tolist()"
   ]
  },
  {
   "cell_type": "code",
   "execution_count": 99,
   "metadata": {},
   "outputs": [
    {
     "data": {
      "text/html": [
       "<div>\n",
       "<style scoped>\n",
       "    .dataframe tbody tr th:only-of-type {\n",
       "        vertical-align: middle;\n",
       "    }\n",
       "\n",
       "    .dataframe tbody tr th {\n",
       "        vertical-align: top;\n",
       "    }\n",
       "\n",
       "    .dataframe thead th {\n",
       "        text-align: right;\n",
       "    }\n",
       "</style>\n",
       "<table border=\"1\" class=\"dataframe\">\n",
       "  <thead>\n",
       "    <tr style=\"text-align: right;\">\n",
       "      <th></th>\n",
       "      <th>region</th>\n",
       "      <th>price</th>\n",
       "      <th>price_per_size</th>\n",
       "      <th>size</th>\n",
       "      <th>rooms</th>\n",
       "      <th>rent</th>\n",
       "    </tr>\n",
       "  </thead>\n",
       "  <tbody>\n",
       "    <tr>\n",
       "      <th>819</th>\n",
       "      <td>Häggvik</td>\n",
       "      <td>1700000</td>\n",
       "      <td>68000</td>\n",
       "      <td>25.0</td>\n",
       "      <td>1.0</td>\n",
       "      <td>1599</td>\n",
       "    </tr>\n",
       "    <tr>\n",
       "      <th>1923</th>\n",
       "      <td>Häggvik</td>\n",
       "      <td>1800000</td>\n",
       "      <td>51576</td>\n",
       "      <td>34.9</td>\n",
       "      <td>1.0</td>\n",
       "      <td>2194</td>\n",
       "    </tr>\n",
       "    <tr>\n",
       "      <th>2739</th>\n",
       "      <td>Häggvik</td>\n",
       "      <td>2470000</td>\n",
       "      <td>50408</td>\n",
       "      <td>49.0</td>\n",
       "      <td>2.0</td>\n",
       "      <td>2920</td>\n",
       "    </tr>\n",
       "    <tr>\n",
       "      <th>3418</th>\n",
       "      <td>Häggvik</td>\n",
       "      <td>1995000</td>\n",
       "      <td>53919</td>\n",
       "      <td>37.0</td>\n",
       "      <td>1.0</td>\n",
       "      <td>2143</td>\n",
       "    </tr>\n",
       "    <tr>\n",
       "      <th>3701</th>\n",
       "      <td>Häggvik</td>\n",
       "      <td>1950000</td>\n",
       "      <td>56358</td>\n",
       "      <td>34.6</td>\n",
       "      <td>1.0</td>\n",
       "      <td>1719</td>\n",
       "    </tr>\n",
       "    <tr>\n",
       "      <th>4005</th>\n",
       "      <td>Häggvik</td>\n",
       "      <td>2175000</td>\n",
       "      <td>38701</td>\n",
       "      <td>56.2</td>\n",
       "      <td>2.0</td>\n",
       "      <td>3261</td>\n",
       "    </tr>\n",
       "    <tr>\n",
       "      <th>4107</th>\n",
       "      <td>Häggvik</td>\n",
       "      <td>1800000</td>\n",
       "      <td>51576</td>\n",
       "      <td>34.9</td>\n",
       "      <td>1.0</td>\n",
       "      <td>2194</td>\n",
       "    </tr>\n",
       "    <tr>\n",
       "      <th>4933</th>\n",
       "      <td>Häggvik</td>\n",
       "      <td>2015000</td>\n",
       "      <td>33583</td>\n",
       "      <td>60.0</td>\n",
       "      <td>2.0</td>\n",
       "      <td>3413</td>\n",
       "    </tr>\n",
       "    <tr>\n",
       "      <th>5582</th>\n",
       "      <td>Häggvik</td>\n",
       "      <td>2470000</td>\n",
       "      <td>50408</td>\n",
       "      <td>49.0</td>\n",
       "      <td>2.0</td>\n",
       "      <td>2920</td>\n",
       "    </tr>\n",
       "    <tr>\n",
       "      <th>6185</th>\n",
       "      <td>Häggvik</td>\n",
       "      <td>2175000</td>\n",
       "      <td>38701</td>\n",
       "      <td>56.2</td>\n",
       "      <td>2.0</td>\n",
       "      <td>3261</td>\n",
       "    </tr>\n",
       "    <tr>\n",
       "      <th>6321</th>\n",
       "      <td>Häggvik</td>\n",
       "      <td>1800000</td>\n",
       "      <td>51576</td>\n",
       "      <td>34.9</td>\n",
       "      <td>1.0</td>\n",
       "      <td>2194</td>\n",
       "    </tr>\n",
       "    <tr>\n",
       "      <th>7136</th>\n",
       "      <td>Häggvik</td>\n",
       "      <td>4300000</td>\n",
       "      <td>58108</td>\n",
       "      <td>74.0</td>\n",
       "      <td>3.0</td>\n",
       "      <td>4175</td>\n",
       "    </tr>\n",
       "    <tr>\n",
       "      <th>7295</th>\n",
       "      <td>Häggvik</td>\n",
       "      <td>2100000</td>\n",
       "      <td>28767</td>\n",
       "      <td>73.0</td>\n",
       "      <td>3.0</td>\n",
       "      <td>5824</td>\n",
       "    </tr>\n",
       "    <tr>\n",
       "      <th>7468</th>\n",
       "      <td>Häggvik</td>\n",
       "      <td>2015000</td>\n",
       "      <td>33583</td>\n",
       "      <td>60.0</td>\n",
       "      <td>2.0</td>\n",
       "      <td>3413</td>\n",
       "    </tr>\n",
       "    <tr>\n",
       "      <th>13179</th>\n",
       "      <td>Häggvik</td>\n",
       "      <td>2550000</td>\n",
       "      <td>49038</td>\n",
       "      <td>52.0</td>\n",
       "      <td>2.0</td>\n",
       "      <td>3098</td>\n",
       "    </tr>\n",
       "    <tr>\n",
       "      <th>14085</th>\n",
       "      <td>Häggvik</td>\n",
       "      <td>4300000</td>\n",
       "      <td>58108</td>\n",
       "      <td>74.0</td>\n",
       "      <td>3.0</td>\n",
       "      <td>4175</td>\n",
       "    </tr>\n",
       "    <tr>\n",
       "      <th>14733</th>\n",
       "      <td>Häggvik</td>\n",
       "      <td>3450000</td>\n",
       "      <td>45395</td>\n",
       "      <td>76.0</td>\n",
       "      <td>3.0</td>\n",
       "      <td>4528</td>\n",
       "    </tr>\n",
       "    <tr>\n",
       "      <th>15524</th>\n",
       "      <td>Häggvik</td>\n",
       "      <td>3600000</td>\n",
       "      <td>38710</td>\n",
       "      <td>93.0</td>\n",
       "      <td>4.0</td>\n",
       "      <td>5386</td>\n",
       "    </tr>\n",
       "  </tbody>\n",
       "</table>\n",
       "</div>"
      ],
      "text/plain": [
       "        region    price  price_per_size  size  rooms  rent\n",
       "819    Häggvik  1700000           68000  25.0    1.0  1599\n",
       "1923   Häggvik  1800000           51576  34.9    1.0  2194\n",
       "2739   Häggvik  2470000           50408  49.0    2.0  2920\n",
       "3418   Häggvik  1995000           53919  37.0    1.0  2143\n",
       "3701   Häggvik  1950000           56358  34.6    1.0  1719\n",
       "4005   Häggvik  2175000           38701  56.2    2.0  3261\n",
       "4107   Häggvik  1800000           51576  34.9    1.0  2194\n",
       "4933   Häggvik  2015000           33583  60.0    2.0  3413\n",
       "5582   Häggvik  2470000           50408  49.0    2.0  2920\n",
       "6185   Häggvik  2175000           38701  56.2    2.0  3261\n",
       "6321   Häggvik  1800000           51576  34.9    1.0  2194\n",
       "7136   Häggvik  4300000           58108  74.0    3.0  4175\n",
       "7295   Häggvik  2100000           28767  73.0    3.0  5824\n",
       "7468   Häggvik  2015000           33583  60.0    2.0  3413\n",
       "13179  Häggvik  2550000           49038  52.0    2.0  3098\n",
       "14085  Häggvik  4300000           58108  74.0    3.0  4175\n",
       "14733  Häggvik  3450000           45395  76.0    3.0  4528\n",
       "15524  Häggvik  3600000           38710  93.0    4.0  5386"
      ]
     },
     "execution_count": 99,
     "metadata": {},
     "output_type": "execute_result"
    }
   ],
   "source": [
    "edsviken_df"
   ]
  },
  {
   "cell_type": "code",
   "execution_count": 104,
   "metadata": {},
   "outputs": [
    {
     "data": {
      "text/plain": [
       "<matplotlib.axes._subplots.AxesSubplot at 0x14cb52e10>"
      ]
     },
     "execution_count": 104,
     "metadata": {},
     "output_type": "execute_result"
    },
    {
     "data": {
      "image/png": "[encoded data removed]",
      "text/plain": [
       "<Figure size 432x288 with 1 Axes>"
      ]
     },
     "metadata": {
      "needs_background": "light"
     },
     "output_type": "display_data"
    }
   ],
   "source": [
    "data.plot.scatter(x='size',y='price')"
   ]
  },
  {
   "cell_type": "code",
   "execution_count": 105,
   "metadata": {},
   "outputs": [
    {
     "data": {
      "text/plain": [
       "<matplotlib.axes._subplots.AxesSubplot at 0x14cb9edd0>"
      ]
     },
     "execution_count": 105,
     "metadata": {},
     "output_type": "execute_result"
    },
    {
     "data": {
      "image/png": "[encoded data removed]",
      "text/plain": [
       "<Figure size 432x288 with 1 Axes>"
      ]
     },
     "metadata": {
      "needs_background": "light"
     },
     "output_type": "display_data"
    }
   ],
   "source": [
    "edsviken_df.plot.scatter(x='size',y='price')"
   ]
  },
  {
   "cell_type": "code",
   "execution_count": 106,
   "metadata": {},
   "outputs": [],
   "source": [
    "ostermalm_df = data[(data['region'] == \"Östermalm\")]"
   ]
  },
  {
   "cell_type": "code",
   "execution_count": 107,
   "metadata": {},
   "outputs": [
    {
     "data": {
      "text/plain": [
       "<matplotlib.axes._subplots.AxesSubplot at 0x14cc1b0d0>"
      ]
     },
     "execution_count": 107,
     "metadata": {},
     "output_type": "execute_result"
    },
    {
     "data": {
      "image/png": "[encoded data removed]",
      "text/plain": [
       "<Figure size 432x288 with 1 Axes>"
      ]
     },
     "metadata": {
      "needs_background": "light"
     },
     "output_type": "display_data"
    }
   ],
   "source": [
    "ostermalm_df.plot.scatter(x='size',y='price')"
   ]
  },
  {
   "cell_type": "code",
   "execution_count": 108,
   "metadata": {},
   "outputs": [],
   "source": [
    "sodermalm_df = data[(data['region'] == \"Södermalm\")]"
   ]
  },
  {
   "cell_type": "code",
   "execution_count": 109,
   "metadata": {},
   "outputs": [
    {
     "data": {
      "text/plain": [
       "<matplotlib.axes._subplots.AxesSubplot at 0x14cc5b710>"
      ]
     },
     "execution_count": 109,
     "metadata": {},
     "output_type": "execute_result"
    },
    {
     "data": {
      "image/png": "[encoded data removed]",
      "text/plain": [
       "<Figure size 432x288 with 1 Axes>"
      ]
     },
     "metadata": {
      "needs_background": "light"
     },
     "output_type": "display_data"
    }
   ],
   "source": [
    "sodermalm_df.plot.scatter(x='size',y='price')"
   ]
  },
  {
   "cell_type": "code",
   "execution_count": null,
   "metadata": {},
   "outputs": [],
   "source": []
  }
 ],
 "metadata": {
  "kernelspec": {
   "display_name": "Python 3",
   "language": "python",
   "name": "python3"
  },
  "language_info": {
   "codemirror_mode": {
    "name": "ipython",
    "version": 3
   },
   "file_extension": ".py",
   "mimetype": "text/x-python",
   "name": "python",
   "nbconvert_exporter": "python",
   "pygments_lexer": "ipython3",
   "version": "3.7.6"
  }
 },
 "nbformat": 4,
 "nbformat_minor": 2
}
